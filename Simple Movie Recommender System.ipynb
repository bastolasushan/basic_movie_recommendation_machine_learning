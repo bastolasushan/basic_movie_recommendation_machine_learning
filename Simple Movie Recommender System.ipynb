{
 "cells": [
  {
   "cell_type": "code",
   "execution_count": 1,
   "metadata": {},
   "outputs": [],
   "source": [
    "# Step 1: Read CSV\n",
    "\n",
    "# Step 2: Select Features\n",
    "\n",
    "# Step 3 : Create a column in DF which combines all selected features\n",
    "\n",
    "# Step 4: Create count matrix from this new combined column\n",
    "\n",
    "# Step 5 : Compute the Cosine Similarity based on the count_matrix\n",
    "\n",
    "movie_user_likes = \"Avatar\"\n",
    "\n",
    "# Step 6 : Get index of this movie from its state\n",
    "\n",
    "# Step 7 : Get a list of similar movies in descending order of similarity score\n",
    "\n",
    "# Step 8 : Print titles of first 50 movies\n"
   ]
  },
  {
   "cell_type": "code",
   "execution_count": 32,
   "metadata": {},
   "outputs": [],
   "source": [
    "# Reading CSV files\n",
    "\n",
    "import pandas as pd\n",
    "import numpy as np\n",
    "from sklearn.feature_extraction.text import CountVectorizer\n",
    "from sklearn.metrics.pairwise import cosine_similarity\n",
    "\n",
    "\n",
    "\n",
    "df = pd.read_csv(\"movie_dataset.csv\")\n",
    "\n",
    "\n",
    "def get_title_from_index(index):\n",
    "    return df[df.index == index][\"title\"].values[0]\n",
    "def get_index_from_title(title):\n",
    "    return df[df.title == title][\"index\"].values[0]"
   ]
  },
  {
   "cell_type": "code",
   "execution_count": 20,
   "metadata": {},
   "outputs": [],
   "source": [
    "\"\"\"\n",
    "These are columns:\n",
    "Index(['index', 'budget', 'genres', 'homepage', 'id', 'keywords',\n",
    "       'original_language', 'original_title', 'overview', 'popularity',\n",
    "       'production_companies', 'production_countries', 'release_date',\n",
    "       'revenue', 'runtime', 'spoken_languages', 'status', 'tagline', 'title',\n",
    "       'vote_average', 'vote_count', 'cast', 'crew', 'director'],\n",
    "      dtype='object')\n",
    "    \n",
    "So, from these we are going to select only some useful features\n",
    "\n",
    "\"\"\"\n",
    "\n",
    "\n",
    "# Step 2: Select Features\n",
    "\n",
    "\n",
    "\n",
    "features = ['keywords','cast','genres','director']\n",
    "\n",
    "\"\"\"\n",
    "Our next task is to create a function for combining the values of these columns into a single string\n",
    "\n",
    "\"\"\""
   ]
  },
  {
   "cell_type": "code",
   "execution_count": 21,
   "metadata": {},
   "outputs": [
    {
     "name": "stdout",
     "output_type": "stream",
     "text": [
      "0    culture clash future space war space colony so...\n",
      "1    ocean drug abuse exotic island east india trad...\n",
      "2    spy based on novel secret agent sequel mi6 Dan...\n",
      "3    dc comics crime fighter terrorist secret ident...\n",
      "4    based on novel mars medallion space travel pri...\n",
      "Name: combine_features, dtype: object\n"
     ]
    }
   ],
   "source": [
    "# Step 3 : Create a column in Data Frame which combines all selected features\n",
    "\n",
    "\"\"\"\n",
    "Now we need to call this function over each row of our dataframe. But before doing that,\n",
    "we need to clean and preprocess the data for our use. We will fill all the NaN values with\n",
    "blank string in the dataframe\n",
    "\n",
    "\"\"\"\n",
    "for feature in features:\n",
    "    df[feature] = df[feature].fillna('')\n",
    "\n",
    "def combine_features(row):\n",
    "    try:\n",
    "        return row['keywords'] + \" \" + row['cast'] + \" \" + row['genres'] + \" \" + row['director']\n",
    "    except:\n",
    "        print(\"Error\", row)\n",
    "        \n",
    "# applying combined_features() method over each rows of dataframe and storing the combined string in \"combined_features\" column\n",
    "\n",
    "df[\"combine_features\"] = df.apply(combine_features, axis = 1)\n",
    "\n",
    "print(df[\"combine_features\"].head())\n"
   ]
  },
  {
   "cell_type": "code",
   "execution_count": 22,
   "metadata": {},
   "outputs": [],
   "source": [
    "\n",
    "\n",
    "# Step 4: Create count matrix from this new combined column\n",
    "\n",
    "\n",
    "cv = CountVectorizer()\n",
    "\n",
    "count_matrix = cv.fit_transform(df[\"combine_features\"])\n"
   ]
  },
  {
   "cell_type": "code",
   "execution_count": 23,
   "metadata": {},
   "outputs": [],
   "source": [
    "# Step 5 : Compute the Cosine Similarity based on the count_matrix\n",
    "\n",
    "\n",
    "cosine_sim = cosine_similarity(count_matrix)\n",
    "movie_user_likes = \"Avatar\"\n",
    "\n"
   ]
  },
  {
   "cell_type": "code",
   "execution_count": 33,
   "metadata": {},
   "outputs": [],
   "source": [
    "# Step 6 : Get index of this movie from its state\n",
    "\n",
    "\n",
    "movie_index = get_index_from_title(movie_user_likes)\n",
    "\n",
    "similar_movies = list(enumerate(cosine_sim[movie_index]))\n",
    "\n"
   ]
  },
  {
   "cell_type": "code",
   "execution_count": 34,
   "metadata": {},
   "outputs": [],
   "source": [
    "# Step 7 : Get a list of similar movies in descending order of similarity score\n",
    "\n",
    "\n",
    "sorted_similar_movies = sorted(similar_movies, key =  lambda x:x[1], reverse = True)"
   ]
  },
  {
   "cell_type": "code",
   "execution_count": 36,
   "metadata": {},
   "outputs": [
    {
     "name": "stdout",
     "output_type": "stream",
     "text": [
      "Avatar\n",
      "Guardians of the Galaxy\n",
      "Aliens\n",
      "Star Wars: Clone Wars: Volume 1\n",
      "Star Trek Into Darkness\n",
      "Star Trek Beyond\n",
      "Alien\n",
      "Lockout\n",
      "Jason X\n",
      "The Helix... Loaded\n",
      "Moonraker\n",
      "Planet of the Apes\n",
      "Galaxy Quest\n",
      "Gravity\n",
      "Alien³\n",
      "Jupiter Ascending\n",
      "The Wolverine\n",
      "Silent Running\n",
      "Zathura: A Space Adventure\n",
      "Trekkies\n",
      "Cargo\n",
      "Wing Commander\n",
      "Star Trek\n",
      "Lost in Space\n",
      "Babylon A.D.\n",
      "The Fifth Element\n",
      "Oblivion\n",
      "Titan A.E.\n",
      "AVP: Alien vs. Predator\n",
      "The Empire Strikes Back\n",
      "Dragonball Evolution\n",
      "Superman Returns\n",
      "Divergent\n",
      "John Carter\n",
      "The Black Hole\n",
      "The Ice Pirates\n",
      "Memoirs of an Invisible Man\n",
      "Starship Troopers\n",
      "The Astronaut's Wife\n",
      "Machete Kills\n",
      "Soldier\n",
      "The Abyss\n",
      "Damnation Alley\n",
      "Men in Black\n",
      "Space Cowboys\n",
      "Space Dogs\n",
      "The Time Machine\n",
      "Sheena\n",
      "Captain America: Civil War\n",
      "Star Trek: Insurrection\n",
      "Oz: The Great and Powerful\n"
     ]
    }
   ],
   "source": [
    "# Step 8 : Print titles of first 50 movies\n",
    "\n",
    "\n",
    "i = 0\n",
    "\n",
    "for movie in sorted_similar_movies:\n",
    "    print(get_title_from_index(movie[0]))\n",
    "    i += 1\n",
    "    if i > 50:\n",
    "        break"
   ]
  },
  {
   "cell_type": "code",
   "execution_count": null,
   "metadata": {},
   "outputs": [],
   "source": []
  }
 ],
 "metadata": {
  "kernelspec": {
   "display_name": "Python 3",
   "language": "python",
   "name": "python3"
  },
  "language_info": {
   "codemirror_mode": {
    "name": "ipython",
    "version": 3
   },
   "file_extension": ".py",
   "mimetype": "text/x-python",
   "name": "python",
   "nbconvert_exporter": "python",
   "pygments_lexer": "ipython3",
   "version": "3.7.6"
  }
 },
 "nbformat": 4,
 "nbformat_minor": 4
}
